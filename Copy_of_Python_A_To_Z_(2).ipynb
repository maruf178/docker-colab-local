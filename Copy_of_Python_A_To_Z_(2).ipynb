{
  "nbformat": 4,
  "nbformat_minor": 0,
  "metadata": {
    "colab": {
      "name": "Copy_of_Python_A_To_Z (2).ipynb",
      "private_outputs": true,
      "provenance": [],
      "collapsed_sections": [],
      "include_colab_link": true
    },
    "kernelspec": {
      "name": "python3",
      "display_name": "Python 3"
    },
    "language_info": {
      "name": "python"
    }
  },
  "cells": [
    {
      "cell_type": "markdown",
      "metadata": {
        "id": "view-in-github",
        "colab_type": "text"
      },
      "source": [
        "<a href=\"https://colab.research.google.com/github/maruf178/docker-colab-local/blob/master/Copy_of_Python_A_To_Z_(2).ipynb\" target=\"_parent\"><img src=\"https://colab.research.google.com/assets/colab-badge.svg\" alt=\"Open In Colab\"/></a>"
      ]
    },
    {
      "cell_type": "markdown",
      "metadata": {
        "id": "aTdWe5Of765S"
      },
      "source": [
        "#**<center>Learn Python Using Colab**\n",
        "\n",
        "---\n"
      ]
    },
    {
      "cell_type": "markdown",
      "metadata": {
        "id": "HEqcLiD4oBVh"
      },
      "source": [
        "# **Display Your Message**\n",
        "\n",
        "\n",
        "\n",
        "```\n",
        "print('your message')\n",
        "```\n",
        "\n"
      ]
    },
    {
      "cell_type": "code",
      "metadata": {
        "id": "0-WReXaToJKq"
      },
      "source": [
        "print(\"hello world\")"
      ],
      "execution_count": null,
      "outputs": []
    },
    {
      "cell_type": "markdown",
      "metadata": {
        "id": "GYZkAd9B_MNQ"
      },
      "source": [
        "# **1.Comments**\n",
        "\n",
        "\n",
        "\n",
        "```\n",
        "# Your comments\n",
        "```\n",
        "\n"
      ]
    },
    {
      "cell_type": "code",
      "metadata": {
        "id": "NMbvFa1CX-vJ"
      },
      "source": [
        "#in python comment line start with hash(#).Comment not show in output."
      ],
      "execution_count": null,
      "outputs": []
    },
    {
      "cell_type": "markdown",
      "metadata": {
        "id": "0GdULKv9JtdG"
      },
      "source": [
        "**Multi Line Comments**"
      ]
    },
    {
      "cell_type": "code",
      "metadata": {
        "id": "g5rel1EtjO3I"
      },
      "source": [
        "#You can also use multiline comment using multiple hash tag\n",
        "# Comments can be used to explain Python code or remember the code next time"
      ],
      "execution_count": null,
      "outputs": []
    },
    {
      "cell_type": "code",
      "metadata": {
        "id": "nFTSdCfZYTrN"
      },
      "source": [
        "'''\n",
        "If you need huge line to  make a comment you can \n",
        "use string in without creatig veriable\n",
        "*remember that you must have another output \n",
        "'''\n",
        "print('Comment not showing in output')\n"
      ],
      "execution_count": null,
      "outputs": []
    },
    {
      "cell_type": "markdown",
      "metadata": {
        "id": "zYs9CallartT"
      },
      "source": [
        "# **2.Variable**\n",
        "\n",
        "\n"
      ]
    },
    {
      "cell_type": "markdown",
      "metadata": {
        "id": "GcPyuax91tvB"
      },
      "source": [
        "<h1><center>Rules for creating variables in Python:</h1>\n",
        "\n",
        "1.A variable name must start with a letter or the underscore character.\n",
        "\n",
        "2.A variable name cannot start with a number.\n",
        "\n",
        "3.A variable name can only contain alpha-numeric characters and underscores (A-z, 0-9, and _ ).\n",
        "\n",
        "4.Variable names are case-sensitive (name, Name and NAME are three different variables).\n",
        "\n",
        "5.The reserved words(keywords) cannot be used naming the variable.\n",
        "\n",
        "\n",
        "\n",
        "#<center>Legal variable name\n",
        "\n",
        "MyName = \"maruf\"\n",
        "\n",
        "my_name = \"maruf\"\n",
        "\n",
        "_my_name = \"maruf\"\n",
        "\n",
        "myName = \"maruf\"\n",
        "\n",
        "MYNAME = \"maruf\"\n",
        "\n",
        "myname2 = \"maruf\"\n",
        "\n",
        "myNameIs = \"maruf\"     \n",
        "\n",
        "MyNameIs = \"maruf\"    \n",
        "\n",
        "my_Name_is = \"maruf\"\n",
        "\n",
        "#<center>Ilegal variable name\n",
        "\n",
        "2myname = \"maruf\"    \n",
        "\n",
        "my-name = \"maruf\"\n",
        "\n",
        "my name = \"maruf\""
      ]
    },
    {
      "cell_type": "markdown",
      "metadata": {
        "id": "lrFXVyH1hiXk"
      },
      "source": [
        "**Case-Sensitive**\n",
        "\n",
        "*   Upper case & Lower case variale are not same\n",
        "\n",
        "\n",
        "\n"
      ]
    },
    {
      "cell_type": "code",
      "metadata": {
        "id": "IU_vuLZE6Dwa"
      },
      "source": [
        "a = 25\n",
        "A = 50\n",
        "\n",
        "print(a)\n",
        "print(A)"
      ],
      "execution_count": null,
      "outputs": []
    },
    {
      "cell_type": "markdown",
      "metadata": {
        "id": "pKTOxTNjhx2v"
      },
      "source": [
        "\n",
        "\n",
        "**python only show last output in same variable**\n",
        "\n"
      ]
    },
    {
      "cell_type": "code",
      "metadata": {
        "id": "7ZTE-BN11I6n"
      },
      "source": [
        "x = 485\n",
        "x = \"Sally\" \n",
        "print(x)"
      ],
      "execution_count": null,
      "outputs": []
    },
    {
      "cell_type": "markdown",
      "metadata": {
        "id": "sGPjyERCh7ZK"
      },
      "source": [
        "\n",
        "\n",
        "*   **single Variale**\n",
        "\n"
      ]
    },
    {
      "cell_type": "code",
      "metadata": {
        "id": "ZbIH0eF0j0ji"
      },
      "source": [
        "a=\"maruf\"\n",
        "print(a)"
      ],
      "execution_count": null,
      "outputs": []
    },
    {
      "cell_type": "markdown",
      "metadata": {
        "id": "7ABPK0aziD-8"
      },
      "source": [
        "\n",
        "\n",
        "*  **Multiple Variable**\n",
        "\n"
      ]
    },
    {
      "cell_type": "code",
      "metadata": {
        "id": "y9cJlmkdduTZ"
      },
      "source": [
        "x = 5\n",
        "y = \"John\"\n",
        "print(x)\n",
        "print(y)"
      ],
      "execution_count": null,
      "outputs": []
    },
    {
      "cell_type": "markdown",
      "metadata": {
        "id": "PHl6JQCSiJyu"
      },
      "source": [
        "\n",
        "\n",
        "* **Multiple Variable to one value**\n",
        "\n"
      ]
    },
    {
      "cell_type": "code",
      "metadata": {
        "id": "wo5oh0Di_XaS"
      },
      "source": [
        "a=b=c= 'hello'\n",
        "print(a)\n",
        "print(b)\n",
        "print(c)"
      ],
      "execution_count": null,
      "outputs": []
    },
    {
      "cell_type": "markdown",
      "metadata": {
        "id": "ZxsU6OmHihMU"
      },
      "source": [
        "\n",
        "\n",
        "* **Multiple variable and Multiple value**\n",
        "\n"
      ]
    },
    {
      "cell_type": "code",
      "metadata": {
        "id": "Z1FeONmt-bsM"
      },
      "source": [
        "a,b,c = 34,\"hello\",33.35\n",
        "\n",
        "print(a)\n",
        "print(b)\n",
        "print(c)"
      ],
      "execution_count": null,
      "outputs": []
    },
    {
      "cell_type": "code",
      "metadata": {
        "id": "ObpiIqPLW70l"
      },
      "source": [
        "a,b,c = 34,\"hello\",33.35\n",
        "\n",
        "print(a,b,c)\n"
      ],
      "execution_count": null,
      "outputs": []
    },
    {
      "cell_type": "markdown",
      "metadata": {
        "id": "kQDShUw7ip1A"
      },
      "source": [
        "\n",
        "\n",
        "* **Unpack a list**\n"
      ]
    },
    {
      "cell_type": "code",
      "metadata": {
        "id": "wp5uFuR-ABVD"
      },
      "source": [
        "x = [73,\"hello\",457.4587]\n",
        "a,b,c= x\n",
        "print(a)\n",
        "print(b)\n",
        "print(c)"
      ],
      "execution_count": null,
      "outputs": []
    },
    {
      "cell_type": "markdown",
      "metadata": {
        "id": "g_IncMwRkOQG"
      },
      "source": [
        "\n",
        "\n",
        "*   **Output Variables**\n",
        "\n"
      ]
    },
    {
      "cell_type": "code",
      "metadata": {
        "id": "npk6rhzd5thM"
      },
      "source": [
        "a = 'My age is '\n",
        "b = \"21\"          #Dont combine string & number\n",
        "\n",
        "print(a+b)"
      ],
      "execution_count": null,
      "outputs": []
    },
    {
      "cell_type": "code",
      "metadata": {
        "id": "PC9AXtcvkeMw"
      },
      "source": [
        "a = 'My age is '\n",
        "     \n",
        "print(a+\"21\")      #Dont combine string & number"
      ],
      "execution_count": null,
      "outputs": []
    },
    {
      "cell_type": "code",
      "metadata": {
        "id": "6FQSrGSlkppc"
      },
      "source": [
        "a = 'My age is '\n",
        "b = \"21\"          #Dont combine string & number\n",
        "c = a+b\n",
        "print(c)"
      ],
      "execution_count": null,
      "outputs": []
    },
    {
      "cell_type": "markdown",
      "metadata": {
        "id": "rZXxPfxVk7Vg"
      },
      "source": [
        "\n",
        "\n",
        "*   **Multiplication & line break**\n"
      ]
    },
    {
      "cell_type": "code",
      "metadata": {
        "id": "ByDkxEwWj2nJ"
      },
      "source": [
        "a = \"i am maruf \\n \"\n",
        "print(a*5) \n"
      ],
      "execution_count": null,
      "outputs": []
    },
    {
      "cell_type": "markdown",
      "metadata": {
        "id": "V_vuhII2lDWr"
      },
      "source": [
        "\n",
        "\n",
        "*   **Global variable**\n",
        "\n"
      ]
    },
    {
      "cell_type": "code",
      "metadata": {
        "id": "BW3C2MBSEbgG"
      },
      "source": [
        "x = \"awesome\"\n",
        "y = \"suck 😜\"\n",
        "def Joking():\n",
        "  print(\"Python is \"+x)\n",
        "  print(\"JS is \"+y )\n",
        "\n",
        "Joking()\n",
        "\n"
      ],
      "execution_count": null,
      "outputs": []
    },
    {
      "cell_type": "markdown",
      "metadata": {
        "id": "vuu1zyo9I1kB"
      },
      "source": [
        "# **Data Type** "
      ]
    },
    {
      "cell_type": "markdown",
      "metadata": {
        "id": "rVWQnGwuKgwi"
      },
      "source": [
        "x = \"Hello World\"\t#str\t\n",
        "x = 20\t#int\t\n",
        "x = 20.5\t#float\t\n",
        "x = 1j\t#complex\t\n",
        "x = [\"apple\", \"banana\", \"cherry\"]\t#list\t\n",
        "x = (\"apple\", \"banana\", \"cherry\")\t#tuple\t\n",
        "x = range(6)\t#range\t\n",
        "x = {\"name\" : \"John\", \"age\" : 36}\t#dict\t\n",
        "x = {\"apple\", \"banana\", \"cherry\"}\t#set\t\n",
        "x = frozenset({\"apple\", \"banana\", \"cherry\"})\t#frozenset\t\n",
        "x = True\t#bool\t\n",
        "x = b\"Hello\"\t#bytes\t\n",
        "x = bytearray(5)\t#bytearray\t\n",
        "x = memoryview(bytes(5))\t#memoryview\n",
        "\n",
        "\n"
      ]
    },
    {
      "cell_type": "markdown",
      "metadata": {
        "id": "7MGsq_YpgORq"
      },
      "source": [
        "**Get the data Type**"
      ]
    },
    {
      "cell_type": "code",
      "metadata": {
        "id": "0zDLJILh4nXU"
      },
      "source": [
        "\n",
        "a = 376\n",
        "b = 387.786\n",
        "c = \"welcome\"\n",
        "d = 1j\n",
        "e = 838e35\n",
        "f = 34+3j\n",
        "g= (\"Mark\", \"Ron\", \"Peter\", \"Greg\")\n",
        "h = range(6) \n",
        "\n",
        "print(type(a))\n",
        "print(type(b))\n",
        "print(type(c))\n",
        "print(type(d))    \n",
        "print(type(e))\n",
        "print(type(f))\n",
        "print(type(g))\n",
        "print(type(h))"
      ],
      "execution_count": null,
      "outputs": []
    },
    {
      "cell_type": "code",
      "metadata": {
        "id": "qRYFi92D1rtD"
      },
      "source": [
        "a = type(376)\n",
        "b = type(387.786)\n",
        "c = type(\"welcome\")\n",
        "d = type(1j)\n",
        "e = type(838e35)\n",
        "f = type(34+3j)\n",
        "g= (\"Mark\", \"Ron\", \"Peter\", \"Greg\")\n",
        "x =type(g)\n",
        "h = range(6) \n",
        "y = type(h)\n",
        "\n",
        "print(a)\n",
        "print(b)\n",
        "print(c)\n",
        "print(d)\n",
        "print(e)\n",
        "print(f)\n",
        "print(x)\n",
        "print(y)"
      ],
      "execution_count": null,
      "outputs": []
    },
    {
      "cell_type": "markdown",
      "metadata": {
        "id": "lUpR6IXmgTBy"
      },
      "source": [
        "**Convert data type**"
      ]
    },
    {
      "cell_type": "code",
      "metadata": {
        "id": "Kgu1_mJl3qx1"
      },
      "source": [
        "\n",
        "a=str(64892369.42)\n",
        "print(a)\n",
        "\n",
        "print(float(63))\n",
        "\n",
        "b = int(43.348)\n",
        "print(b)\n",
        "\n",
        "c = complex(79357)\n",
        "print(c)\n",
        "\n"
      ],
      "execution_count": null,
      "outputs": []
    },
    {
      "cell_type": "markdown",
      "metadata": {
        "id": "ThyWqKFfNJJJ"
      },
      "source": [
        "# **<center>String**"
      ]
    },
    {
      "cell_type": "markdown",
      "metadata": {
        "id": "OqfMfxCmfFWy"
      },
      "source": [
        "**Multiline Strings**"
      ]
    },
    {
      "cell_type": "code",
      "metadata": {
        "id": "9fc-aWrZNPUq"
      },
      "source": [
        "\n",
        "a = \"\"\" 1.hi i'm maruf, writting python\n",
        "in colab. \"\"\"\n",
        "\n",
        "print(a)\n",
        "\n",
        "\n",
        "\n"
      ],
      "execution_count": null,
      "outputs": []
    },
    {
      "cell_type": "code",
      "metadata": {
        "id": "htsfMQMLoRwS"
      },
      "source": [
        "print(\"\"\" \n",
        "2. hi i'm maruf, writting python code \n",
        "in colab. \"\"\")"
      ],
      "execution_count": null,
      "outputs": []
    },
    {
      "cell_type": "markdown",
      "metadata": {
        "id": "2qbGP19pe7tm"
      },
      "source": [
        "**String Indexing**"
      ]
    },
    {
      "cell_type": "code",
      "metadata": {
        "id": "mRhYZhtGN5Zs"
      },
      "source": [
        "\n",
        "a='abcd efgh'\n",
        "\n",
        "print(\"Element at 1st position:\",a[0])\n",
        "print(\"Element at last position:\",a[-1])\n",
        "print(\"Element at 2nd last position:\",a[-2])\n",
        "print(\"Element at 4th position:\",a[3])\n",
        "\n"
      ],
      "execution_count": null,
      "outputs": []
    },
    {
      "cell_type": "markdown",
      "metadata": {
        "id": "IEJb5EayfNHB"
      },
      "source": [
        "**String Slicing**\n",
        "\n",
        "\n",
        "\n",
        "```\n",
        " a[sart:stop:skip]\n",
        "```\n",
        "\n"
      ]
    },
    {
      "cell_type": "code",
      "metadata": {
        "id": "Ac7cj5L78xWY"
      },
      "source": [
        "\n",
        "a='abcd efgh'\n",
        "\n",
        "b=a[::3]\n",
        "c=a[::-2]\n",
        "d=a[::2]\n",
        "e=a[4:]\n",
        "f=a[:2]\n",
        "\n",
        "print(a[0:3])\n",
        "print(a[0:4:2])\n",
        "print(\"String with alternate letters:\",b)\n",
        "print(\"String in reverse:\",c)\n",
        "print(\"String in reverse with alternate letters:\",d)\n",
        "print(\"String starting from 4th letter:\",e)\n",
        "print(\"String upto 4th letter:\",e)"
      ],
      "execution_count": null,
      "outputs": []
    },
    {
      "cell_type": "markdown",
      "metadata": {
        "id": "aNPt2x2Pqa9z"
      },
      "source": [
        "**Leanth**"
      ]
    },
    {
      "cell_type": "code",
      "metadata": {
        "id": "-BD4qJb4qSLf"
      },
      "source": [
        "a=' Assalamualaikum Rafi'\n",
        "\n",
        "b=len(a)\n",
        "print(\"Leanth:- \",b)"
      ],
      "execution_count": null,
      "outputs": []
    },
    {
      "cell_type": "markdown",
      "metadata": {
        "id": "QLHP8ZcjqgjL"
      },
      "source": [
        "**Upper Case**"
      ]
    },
    {
      "cell_type": "code",
      "metadata": {
        "id": "OBox96mGqg_m"
      },
      "source": [
        "\n",
        "a=' Assalamualaikum Rafi'\n",
        "\n",
        "c=a.upper()\n",
        "print(\"Upper Case :- \",c)"
      ],
      "execution_count": null,
      "outputs": []
    },
    {
      "cell_type": "markdown",
      "metadata": {
        "id": "nyG0allWq0R2"
      },
      "source": [
        "**Lower Case**"
      ]
    },
    {
      "cell_type": "code",
      "metadata": {
        "id": "evrHcIIFqz8I"
      },
      "source": [
        "a=' Assalamualaikum Rafi'\n",
        "\n",
        "d=a.lower()\n",
        "print(\"Lower Case:- \",d)"
      ],
      "execution_count": null,
      "outputs": []
    },
    {
      "cell_type": "markdown",
      "metadata": {
        "id": "_jNdPgzRq9VZ"
      },
      "source": [
        "**SWap Case**"
      ]
    },
    {
      "cell_type": "code",
      "metadata": {
        "id": "GS5-wd67q88Q"
      },
      "source": [
        "a=' Assalamualaikum Rafi'\n",
        " \n",
        "e=a.swapcase()\n",
        "print(\"SWap Case  :- \",e)"
      ],
      "execution_count": null,
      "outputs": []
    },
    {
      "cell_type": "markdown",
      "metadata": {
        "id": "hEvQ8ki0rGEq"
      },
      "source": [
        "**Chack Alphabet**"
      ]
    },
    {
      "cell_type": "code",
      "metadata": {
        "id": "ICkZLDpSrFyb"
      },
      "source": [
        "a=' Assalamualaikum Rafi'\n",
        "\n",
        "f=a.isalpha()\n",
        "print(f)\n"
      ],
      "execution_count": null,
      "outputs": []
    },
    {
      "cell_type": "markdown",
      "metadata": {
        "id": "F8Z-ROQ-rmEL"
      },
      "source": [
        "**Check Number**"
      ]
    },
    {
      "cell_type": "code",
      "metadata": {
        "id": "J0hfKrjWrl0C"
      },
      "source": [
        "a=' Assalamualaikum Rafi'\n",
        "\n",
        "g=a.isalnum()\n",
        "print(\"Check Number :- \",g)\n"
      ],
      "execution_count": null,
      "outputs": []
    },
    {
      "cell_type": "markdown",
      "metadata": {
        "id": "Qic3EzglrvCm"
      },
      "source": [
        "**Check Digit**"
      ]
    },
    {
      "cell_type": "code",
      "metadata": {
        "id": "o0CpneYbruyj"
      },
      "source": [
        "a=' Assalamualaikum Rafi'\n",
        "\n",
        "h=a.isdigit()\n",
        "print(\"Check Digit:- \",h)"
      ],
      "execution_count": null,
      "outputs": []
    },
    {
      "cell_type": "markdown",
      "metadata": {
        "id": "13nrULX9r3sR"
      },
      "source": [
        "**Replace**"
      ]
    },
    {
      "cell_type": "code",
      "metadata": {
        "id": "z7qaEajCr3e1"
      },
      "source": [
        "a=' Assalamualaikum Rafi'\n",
        "\n",
        "i=a.replace(\"Assalamualaikum\",\"walaikumassalam\")\n",
        "print(\"Replace  :- \",i)\n"
      ],
      "execution_count": null,
      "outputs": []
    },
    {
      "cell_type": "markdown",
      "metadata": {
        "id": "mLW97DGrsF9R"
      },
      "source": [
        "**Index**"
      ]
    },
    {
      "cell_type": "code",
      "metadata": {
        "id": "jE1lDxyDsFo6"
      },
      "source": [
        "a=' Assalamualaikum Rafi'\n",
        "\n",
        "j=a.index('sa')\n",
        "print(\"index  :- \",j)"
      ],
      "execution_count": null,
      "outputs": []
    },
    {
      "cell_type": "markdown",
      "metadata": {
        "id": "kP9MmEQGsS-t"
      },
      "source": [
        "**Remove space**\n"
      ]
    },
    {
      "cell_type": "code",
      "metadata": {
        "id": "5caT4lOHsSzd"
      },
      "source": [
        "a='                                      Assalamualaikum Rafi'\n",
        "\n",
        "k=a.strip()\n",
        "print(\"Remove space:- \",k)\n"
      ],
      "execution_count": null,
      "outputs": []
    },
    {
      "cell_type": "markdown",
      "metadata": {
        "id": "t4sZ1EHLsbGW"
      },
      "source": [
        "**Separate**"
      ]
    },
    {
      "cell_type": "code",
      "metadata": {
        "id": "Wfeqbkt6sawG"
      },
      "source": [
        "a=' Assalamualaikum Rafi'\n",
        "\n",
        "l=a.split()\n",
        "print(\"Separate :- \",l)\n"
      ],
      "execution_count": null,
      "outputs": []
    },
    {
      "cell_type": "markdown",
      "metadata": {
        "id": "8l2r2ybBsnHA"
      },
      "source": [
        "**Check String**"
      ]
    },
    {
      "cell_type": "code",
      "metadata": {
        "id": "bjUvhZ07QhI2"
      },
      "source": [
        "a=' Assalamualaikum Rafi'\n",
        "\n",
        "print(\"Rafi\" in a)"
      ],
      "execution_count": null,
      "outputs": []
    },
    {
      "cell_type": "code",
      "metadata": {
        "id": "-ujpeuiOox5I"
      },
      "source": [
        "print(\"Rafi\" in a)"
      ],
      "execution_count": null,
      "outputs": []
    },
    {
      "cell_type": "code",
      "metadata": {
        "id": "5qxP-o0Vo_Wi"
      },
      "source": [
        "if \"Rafi\" in a:\n",
        "  print(\"Yes\")"
      ],
      "execution_count": null,
      "outputs": []
    },
    {
      "cell_type": "markdown",
      "metadata": {
        "id": "g3VErY4CeV6l"
      },
      "source": [
        "**Looping Through a String**"
      ]
    },
    {
      "cell_type": "code",
      "metadata": {
        "id": "NZxPW7WqeVf1"
      },
      "source": [
        "for a in \"Python\":\n",
        "  print(a)"
      ],
      "execution_count": null,
      "outputs": []
    },
    {
      "cell_type": "markdown",
      "metadata": {
        "id": "SeotPS_xfDnn"
      },
      "source": [
        "**String Format**"
      ]
    },
    {
      "cell_type": "code",
      "metadata": {
        "id": "9kvL3d_EfI5f"
      },
      "source": [
        "\n",
        "print(\"My name is {}\".format(\"maruf\"))"
      ],
      "execution_count": null,
      "outputs": []
    },
    {
      "cell_type": "code",
      "metadata": {
        "id": "kJ-wvwSahAoi"
      },
      "source": [
        "name = \"maruf\"\n",
        "Start = 'my name is {}'\n",
        "print(Start.format(name))"
      ],
      "execution_count": null,
      "outputs": []
    },
    {
      "cell_type": "code",
      "metadata": {
        "id": "qkP-WYhskz1e"
      },
      "source": [
        "print( \"Go for {0} and buy {1} pizza for {2} tk\".format('Jannat store', 1, 90))"
      ],
      "execution_count": null,
      "outputs": []
    },
    {
      "cell_type": "code",
      "metadata": {
        "id": "BJnwFH_1hxQX"
      },
      "source": [
        "tk = 45\n",
        "number = 9\n",
        "shop = 'Rohim store'\n",
        "Order =  \"Go for {0} and buy {1} pens for {2} tk\"\n",
        "print(Order.format(shop, number, tk))"
      ],
      "execution_count": null,
      "outputs": []
    },
    {
      "cell_type": "markdown",
      "metadata": {
        "id": "HauYc8sdlufh"
      },
      "source": [
        "**Escape Character**"
      ]
    },
    {
      "cell_type": "code",
      "metadata": {
        "id": "7xCixtcFlz_F"
      },
      "source": [
        "print(\"Hay it's Maruf.\")   # Normal"
      ],
      "execution_count": null,
      "outputs": []
    },
    {
      "cell_type": "code",
      "metadata": {
        "id": "sz8vUzpJiN2u"
      },
      "source": [
        "print(\"it'\\s Maruf.who are you?\")  # Single Quote"
      ],
      "execution_count": null,
      "outputs": []
    },
    {
      "cell_type": "code",
      "metadata": {
        "id": "fLNoMul0rOn5"
      },
      "source": [
        "print(\"This is an \\\"escape\\\" of a double-quote\")  "
      ],
      "execution_count": null,
      "outputs": []
    },
    {
      "cell_type": "code",
      "metadata": {
        "id": "SlaPLwXZq8c2"
      },
      "source": [
        "print(\"Hay it's \\\\\\ Maruf.\")  #\tDouble Backslash  (\\\\)"
      ],
      "execution_count": null,
      "outputs": []
    },
    {
      "cell_type": "code",
      "metadata": {
        "id": "fcTrm40dii4c"
      },
      "source": [
        "print(\"Hay it's \\\\ Maruf.\")  #\tBackslash  (\\\\)"
      ],
      "execution_count": null,
      "outputs": []
    },
    {
      "cell_type": "code",
      "metadata": {
        "id": "IBBYbrJljCnK"
      },
      "source": [
        "print(\"it's Maruf\\n who are you?\")   #\tNew Line / Line break (\\n)"
      ],
      "execution_count": null,
      "outputs": []
    },
    {
      "cell_type": "code",
      "metadata": {
        "id": "PXPEiDSnkHqf"
      },
      "source": [
        "print(\"it's Maruf \\r who are you?\")   #\tCarriage Return (\\r)"
      ],
      "execution_count": null,
      "outputs": []
    },
    {
      "cell_type": "code",
      "metadata": {
        "id": "5XZJjKZ3mqtI"
      },
      "source": [
        "print(\"it's Maruf\\twho are you?\")  #\tTab (\\t)"
      ],
      "execution_count": null,
      "outputs": []
    },
    {
      "cell_type": "code",
      "metadata": {
        "id": "5OJn3apLm7Sl"
      },
      "source": [
        "print(\"it's Maruf \\b who are you?\")   #\tCarriage Return (\\b)"
      ],
      "execution_count": null,
      "outputs": []
    },
    {
      "cell_type": "code",
      "metadata": {
        "id": "BOKkSULAn0kn"
      },
      "source": [
        "print(\"it's Maruf \\f who are you?\")   #Form Feed (\\f)"
      ],
      "execution_count": null,
      "outputs": []
    },
    {
      "cell_type": "code",
      "metadata": {
        "id": "j6aUPfhvn99X"
      },
      "source": [
        "#A backslash followed by an 'x' and a hex number represents a hex value:\n",
        "print(\"\")          #Octal value (\\ooo)"
      ],
      "execution_count": null,
      "outputs": []
    },
    {
      "cell_type": "code",
      "metadata": {
        "id": "uQa7khjOpElx"
      },
      "source": [
        "#A backslash followed by three integers will result in a octal value:\n",
        "print(\"\\110\\145\\154\\154\\157\")  #\tHex value (\\xhh)"
      ],
      "execution_count": null,
      "outputs": []
    },
    {
      "cell_type": "markdown",
      "metadata": {
        "id": "UHtOTVNEwank"
      },
      "source": [
        "# **<center>Booleans**"
      ]
    },
    {
      "cell_type": "code",
      "metadata": {
        "id": "TUCRUfIH2EpQ"
      },
      "source": [
        "print(343 > 235)\n",
        "print(35 == 35)\n",
        "print(3532525 < 9353)"
      ],
      "execution_count": null,
      "outputs": []
    },
    {
      "cell_type": "code",
      "metadata": {
        "id": "ZSdbeeha2ip2"
      },
      "source": [
        "a=6\n",
        "b=8\n",
        "print(a<19 and b<10)\n",
        "print(a<19 or b<10)\n",
        "print(not(a<19 and b<10))  # Revarse output"
      ],
      "execution_count": null,
      "outputs": []
    },
    {
      "cell_type": "code",
      "metadata": {
        "id": "gaE1fyMA3N6B"
      },
      "source": [
        "print(isinstance(\"3598\", int))"
      ],
      "execution_count": null,
      "outputs": []
    },
    {
      "cell_type": "code",
      "metadata": {
        "id": "bhwcd2EPy1FQ"
      },
      "source": [
        "print(bool(12))\n",
        "print(bool(\"It's string\"))\n",
        "print(bool(0))\n",
        "print(bool(\"\"))\n"
      ],
      "execution_count": null,
      "outputs": []
    },
    {
      "cell_type": "markdown",
      "metadata": {
        "id": "P5vWJI1Q3oQG"
      },
      "source": [
        "# **<center>Python Operators**"
      ]
    },
    {
      "cell_type": "markdown",
      "metadata": {
        "id": "m0fjJVYD4MH3"
      },
      "source": [
        "**Python Operators**"
      ]
    },
    {
      "cell_type": "code",
      "metadata": {
        "id": "omb8WZz14VEJ"
      },
      "source": [
        "a = 1000\n",
        "b = 100\n",
        "\n",
        "\t#Addition\n",
        "print(\"Addition of a & b =\", a+b)\n",
        "\n",
        "#\tSubtraction\n",
        "print(\"Subtraction of a & b = \", a-b)\n",
        "\n",
        "#Multiplication\n",
        "print(\"Multiplication of a & b =\", a*b)\n",
        "\n",
        "#\tDivision\n",
        "print(\"Division of a & b =\", a/b)\n",
        "\n",
        "#Modulus\n",
        "print(\"Modulus of a & b =\", a%b)\n",
        "\n",
        "#\tExponentiation\n",
        "print(\"Exponentiation of a & b =\", a**b)\n",
        "\n",
        "#\tFloor division\n",
        "print(\"Floor division of a & b =\", a//b)"
      ],
      "execution_count": null,
      "outputs": []
    },
    {
      "cell_type": "markdown",
      "metadata": {
        "id": "qArcjds7r4el"
      },
      "source": [
        "**Python Assignment Operators**"
      ]
    },
    {
      "cell_type": "code",
      "metadata": {
        "id": "Mr3JrIA1r_Vd"
      },
      "source": [
        "a = b = c = d = e = f = g = 6\n",
        "a += 3\n",
        "b -= 3\n",
        "c *= 3\n",
        "e /= 3\n",
        "f %= 3\n",
        "g //= 3\n",
        "h **= 3\n",
        "\n",
        "print(\"a+=3 same as a=a+3 =\", a)\n",
        "print(\"b-=3 same as b=b+3 =\", b)\n",
        "print(\"c*=3 same as c=c*3 =\", c)\n",
        "print(\"d*=3 same as d=d*3= \", d)\n",
        "print(\"e/=3 same as e=e/3 =\", e)\n",
        "print(\"f%=3 same as f=f%3 =\", f)\n",
        "print(\"g//=3 same as g=g//3 =\", g)\n",
        "\n",
        "\n",
        "\n"
      ],
      "execution_count": null,
      "outputs": []
    },
    {
      "cell_type": "markdown",
      "metadata": {
        "id": "Nn9QLkcw4KeY"
      },
      "source": [
        "**Python Bitwise Operators**"
      ]
    },
    {
      "cell_type": "code",
      "metadata": {
        "id": "FGYJ-AUH342m"
      },
      "source": [
        "a = 10\n",
        "b = 4\n",
        " \n",
        "# Print bitwise AND operation\n",
        "print(\"a & b =\", a & b)\n",
        " \n",
        "# Print bitwise OR operation\n",
        "print(\"a | b =\", a | b)\n",
        " \n",
        "# Print bitwise NOT operation\n",
        "print(\"~a =\", ~a)\n",
        " \n",
        "# print bitwise XOR operation\n",
        "print(\"a ^ b =\", a ^ b)\n",
        "\n",
        "\n",
        "a = 10\n",
        "b = -10\n",
        " \n",
        "# print bitwise right shift operator\n",
        "print(\"a >> 1 =\", a >> 1)\n",
        "print(\"b >> 1 =\", b >> 1)\n",
        " \n",
        "a = 5\n",
        "b = -10\n",
        " \n",
        "# print bitwise left shift operator\n",
        "print(\"a << 1 =\", a << 1)\n",
        "print(\"b << 1 =\", b << 1)\n",
        "\n"
      ],
      "execution_count": null,
      "outputs": []
    },
    {
      "cell_type": "markdown",
      "metadata": {
        "id": "hnxjII7YzF1e"
      },
      "source": [
        "**Python Comparison Operators**"
      ]
    },
    {
      "cell_type": "code",
      "metadata": {
        "id": "6FM3RO_DzZlb"
      },
      "source": [
        "a=6\n",
        "b=8\n",
        "print(a!=b)\n",
        "print(a>=b)\n",
        "print(a<=b)\n",
        "print(a==b)\n",
        "print(a>b)\n",
        "print(a<b)\n",
        "print(a==b)\n"
      ],
      "execution_count": null,
      "outputs": []
    },
    {
      "cell_type": "markdown",
      "metadata": {
        "id": "Z5dzurUOzkLF"
      },
      "source": [
        "**Python Logical Operators**"
      ]
    },
    {
      "cell_type": "code",
      "metadata": {
        "id": "aDffz0JIzqfO"
      },
      "source": [
        "a=6\n",
        "b=8\n",
        "print(a<19 and b<10)   # if both statements are true , then its returns true\n",
        "print(a<19 or b<1)     # if one statement are true , then its returns true\n",
        "print(not(a<19 and b<10)) # Not use as reverse boolians"
      ],
      "execution_count": null,
      "outputs": []
    },
    {
      "cell_type": "markdown",
      "metadata": {
        "id": "GysToTYkz8a6"
      },
      "source": [
        "**Python Identity Operators**\n"
      ]
    },
    {
      "cell_type": "code",
      "metadata": {
        "id": "9ftacNJT0yBv"
      },
      "source": [
        "a = 4\n",
        "b = 4\n",
        "\n",
        "print(a is b)\n",
        "print(b is a)\n",
        "print(a==b)"
      ],
      "execution_count": null,
      "outputs": []
    },
    {
      "cell_type": "code",
      "metadata": {
        "id": "Yd4Zy5ih1Owv"
      },
      "source": [
        "a = 4\n",
        "b = 5\n",
        "\n",
        "print(a is not b)\n",
        "print(b is not a)\n",
        "print(a!=b)"
      ],
      "execution_count": null,
      "outputs": []
    },
    {
      "cell_type": "markdown",
      "metadata": {
        "id": "XI_9gcHe1o3D"
      },
      "source": [
        "**Membership Operators**"
      ]
    },
    {
      "cell_type": "code",
      "metadata": {
        "id": "4z0_ZuxK1ztX"
      },
      "source": [
        "Myself = \"maruf is a good boy\"\n",
        "print(\"maruf\" in Myself)    # maruf avilable in variable\n"
      ],
      "execution_count": null,
      "outputs": []
    },
    {
      "cell_type": "code",
      "metadata": {
        "id": "NgcQjW-c2Dby"
      },
      "source": [
        "Myself = \"maruf is a good boy\"\n",
        "print(\"sohag\" in Myself)    # Sohag not avilable in variable"
      ],
      "execution_count": null,
      "outputs": []
    },
    {
      "cell_type": "markdown",
      "metadata": {
        "id": "k9ajYm1k6z9M"
      },
      "source": [
        "#**<center>Lists**"
      ]
    },
    {
      "cell_type": "code",
      "metadata": {
        "id": "iD3hWhdY79E7"
      },
      "source": [
        "list = [\"notebook\", \"book\", \"pen\"]\n",
        "print(list)"
      ],
      "execution_count": null,
      "outputs": []
    },
    {
      "cell_type": "markdown",
      "metadata": {
        "id": "xSu4WvB_-5kE"
      },
      "source": [
        "**Indexing**"
      ]
    },
    {
      "cell_type": "code",
      "metadata": {
        "id": "jIVXknEW8V7H"
      },
      "source": [
        "l1=[5,8.5,\"maruf\"]\n",
        "\n",
        "\n",
        "print(l1)\n",
        "print(l1[1])\n",
        "print(l1[-1])\n",
        "print(l1[0:2])\n"
      ],
      "execution_count": null,
      "outputs": []
    },
    {
      "cell_type": "markdown",
      "metadata": {
        "id": "l2bO13uD_K5A"
      },
      "source": [
        "**Check if Item Exists**"
      ]
    },
    {
      "cell_type": "code",
      "metadata": {
        "id": "88J_pbjK9tJB"
      },
      "source": [
        "l1=[5,8.5,\"maruf\"]\n",
        "if \"maruf\" in l1:\n",
        "  print(\"Yeah, avilable\")"
      ],
      "execution_count": null,
      "outputs": []
    }
  ]
}